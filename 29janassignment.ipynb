{
 "cells": [
  {
   "cell_type": "code",
   "execution_count": null,
   "id": "35e2e014-924b-4237-b7f5-bd762fc8a8ea",
   "metadata": {},
   "outputs": [],
   "source": [
    "1. Who developed Python Programming Language? "
   ]
  },
  {
   "cell_type": "code",
   "execution_count": null,
   "id": "bbe24829-c7ef-4e92-bf1b-5dc6e147077c",
   "metadata": {},
   "outputs": [],
   "source": [
    "Python was created by Guido van Rossum, and first released on February 20, 1991."
   ]
  },
  {
   "cell_type": "code",
   "execution_count": null,
   "id": "a56042af-9b68-4a74-994b-3639a682e9b1",
   "metadata": {},
   "outputs": [],
   "source": [
    "2. Which type of Programming does Python support? "
   ]
  },
  {
   "cell_type": "code",
   "execution_count": null,
   "id": "adfda07f-4151-437b-bf18-13a43f07b3f1",
   "metadata": {},
   "outputs": [],
   "source": [
    "Python is an interpreted programming language, supporting object-oriented, structured, and functional programming."
   ]
  },
  {
   "cell_type": "code",
   "execution_count": null,
   "id": "d5b645f2-840a-4e4b-ba7c-92d7cbe63a5c",
   "metadata": {},
   "outputs": [],
   "source": [
    "3. Is Python case sensitive when dealing with identifiers? "
   ]
  },
  {
   "cell_type": "code",
   "execution_count": null,
   "id": "34219875-7f2f-471d-a1df-79981ef895f6",
   "metadata": {},
   "outputs": [],
   "source": [
    "Yes, Python is a case-sensitive language, i.e., it treats uppercase and lowercase characters differently.\n",
    "This applies to identifiers too.\n",
    "You must avoid using the same name with different cases while naming identifiers."
   ]
  },
  {
   "cell_type": "code",
   "execution_count": null,
   "id": "4d9c0c5a-46bb-4840-8c4c-c0d5c6287ffa",
   "metadata": {},
   "outputs": [],
   "source": [
    "4. What is the correct extension of the Python file?"
   ]
  },
  {
   "cell_type": "code",
   "execution_count": null,
   "id": "6c899be5-2f1a-4a0a-8f37-91b4e34d9217",
   "metadata": {},
   "outputs": [],
   "source": [
    "The correct extension for python file is .py"
   ]
  },
  {
   "cell_type": "code",
   "execution_count": null,
   "id": "b4d9b0ed-0468-46be-b7b8-853f00a2c605",
   "metadata": {},
   "outputs": [],
   "source": [
    "5. Is Python code compiled or interpreted? "
   ]
  },
  {
   "cell_type": "code",
   "execution_count": null,
   "id": "253a5cfd-030b-442c-bf3e-45e766fd78dd",
   "metadata": {},
   "outputs": [],
   "source": [
    "Python is an interpreted language, which means the source code of a Python program is converted into bytecode that is then executed by the Python virtual machine.\n",
    "Python is different from major compiled languages, such as C and C + +."
   ]
  },
  {
   "cell_type": "code",
   "execution_count": null,
   "id": "eccbfbb9-a5a3-422f-b773-6a93e8c25c0c",
   "metadata": {},
   "outputs": [],
   "source": [
    "6. Name a few blocks of code used to define in Python language? "
   ]
  },
  {
   "cell_type": "code",
   "execution_count": null,
   "id": "c3d2ac2b-549f-48ff-9a60-09f5e7895e42",
   "metadata": {},
   "outputs": [],
   "source": [
    "The following are blocks: a module, a function body, and a class definition.\n",
    "Each command typed interactively is a block.\n",
    "A script file (a file given as standard input to the interpreter or specified as a command line argument to the interpreter) is a code block"
   ]
  },
  {
   "cell_type": "code",
   "execution_count": null,
   "id": "fa3950d8-b308-4819-8865-9e03c2463b49",
   "metadata": {},
   "outputs": [],
   "source": [
    "7. State a character used to give single-line comments in Python? "
   ]
  },
  {
   "cell_type": "code",
   "execution_count": null,
   "id": "cac6e6b3-35c5-4bb1-afa5-74687bcf2355",
   "metadata": {},
   "outputs": [],
   "source": [
    "We can write a single-line comment by adding a single '#' character before any statement or line of code."
   ]
  },
  {
   "cell_type": "code",
   "execution_count": null,
   "id": "172b7e22-6a08-4b09-8a0b-947bc82f3983",
   "metadata": {},
   "outputs": [],
   "source": [
    "8. Mention functions which can help us to find the version of python that we are currently working on? "
   ]
  },
  {
   "cell_type": "code",
   "execution_count": null,
   "id": "61a42cb9-d005-47a4-9121-a4f082bf8134",
   "metadata": {},
   "outputs": [],
   "source": [
    "The Python command comes with a command line option of --version that allows you to see your installed version."
   ]
  },
  {
   "cell_type": "code",
   "execution_count": null,
   "id": "9ddfd292-1c6b-484c-9677-024f9ed8df11",
   "metadata": {},
   "outputs": [],
   "source": [
    "9. Python supports the creation of anonymous functions at runtime, using a construct called ?"
   ]
  },
  {
   "cell_type": "code",
   "execution_count": null,
   "id": "ad193d15-5b15-4fd1-9950-bf06865460fc",
   "metadata": {},
   "outputs": [],
   "source": [
    "Python supports the creation of anonymous functions (i.e. functions that are not bound to a name) at runtime, using a construct called lambda."
   ]
  },
  {
   "cell_type": "code",
   "execution_count": null,
   "id": "0e7747eb-8ac6-459d-8601-7a7df5ec167b",
   "metadata": {},
   "outputs": [],
   "source": [
    "10. What does pip stand for python? "
   ]
  },
  {
   "cell_type": "code",
   "execution_count": null,
   "id": "4242674f-95d7-473d-af89-eff7b8b39118",
   "metadata": {},
   "outputs": [],
   "source": [
    "PIP stands for \"Pip Installs Packages\". It is a package manager for Python that allows you to install and manage additional packages and libraries that are not part of the standard Python library."
   ]
  },
  {
   "cell_type": "code",
   "execution_count": null,
   "id": "2fd4cf4a-24b6-4f22-a5c3-237513c285b4",
   "metadata": {},
   "outputs": [],
   "source": [
    "11. Mention a few built-in functions in python? "
   ]
  },
  {
   "cell_type": "code",
   "execution_count": null,
   "id": "c58c3aff-253e-4633-bb54-9eaa7c7caf19",
   "metadata": {},
   "outputs": [],
   "source": [
    "Sure, here are a few commonly used built-in functions in Python:\n",
    "\n",
    "print() - Used to print output to the console.\n",
    "input() - Used to get input from the user via the console.\n",
    "len() - Used to get the length of a string, list, tuple, dictionary, or other iterable.\n",
    "type() - Used to get the type of a variable or object.\n",
    "int() - Used to convert a string or float to an integer.\n",
    "float() - Used to convert a string or integer to a float.\n",
    "str() - Used to convert a variable or object to a string.\n",
    "range() - Used to create a sequence of numbers.\n",
    "sum() - Used to get the sum of a list of numbers.\n",
    "sorted() - Used to sort a list or other iterable."
   ]
  },
  {
   "cell_type": "code",
   "execution_count": null,
   "id": "24164e6f-ed88-41b4-b8dd-575eade30a7a",
   "metadata": {},
   "outputs": [],
   "source": [
    "12. What is the maximum possible length of an identifier in Python? "
   ]
  },
  {
   "cell_type": "code",
   "execution_count": null,
   "id": "429c2730-48e5-4a72-bc68-7923c840b88c",
   "metadata": {},
   "outputs": [],
   "source": [
    "An identifier can have a maximum length of 79 characters in Python."
   ]
  },
  {
   "cell_type": "code",
   "execution_count": null,
   "id": "044517fe-425a-441b-ae5d-88cbd9a6aa15",
   "metadata": {},
   "outputs": [],
   "source": [
    "13. What are the benefits of using Python? "
   ]
  },
  {
   "cell_type": "code",
   "execution_count": null,
   "id": "e3474f37-b7b2-464e-8ad3-c10f985b65de",
   "metadata": {},
   "outputs": [],
   "source": [
    "There are several benefits of using Python as a programming language:\n",
    "\n",
    "Easy to learn and use : Python has a simple syntax and is easy to read and write, making it an ideal language for beginners.\n",
    "                        The language is designed to be easy to use and to require less code than other programming languages to accomplish the same tasks.\n",
    "\n",
    "Large standard library : Python comes with a large standard library that includes modules for many common tasks such as working with databases, regular expressions, and file I/O.\n",
    "                         This makes it easy to write Python code that is portable and compatible with different platforms.\n",
    "\n",
    "Third-party libraries : Python has a vast collection of third-party libraries that can be easily installed and used, making it a popular choice for data analysis, scientific computing, machine learning, web development, and many other fields.\n",
    "\n",
    "Interpreted language : Python is an interpreted language, meaning that code can be executed directly without the need for compilation. This allows for a quicker development cycle and faster prototyping.\n",
    "\n",
    "Cross-platform compatibility : Python can run on different operating systems, such as Windows, macOS, and Linux, making it a versatile language that can be used on different platforms.\n",
    "Open-source and community-driven : Python is open-source, which means that the source code is freely available to the public.\n",
    "                                   This has led to the development of a large and active community of developers who contribute to the language, create libraries, and provide support to new users."
   ]
  },
  {
   "cell_type": "code",
   "execution_count": null,
   "id": "bbe14a23-4515-4bc9-a326-3eee10cc7689",
   "metadata": {},
   "outputs": [],
   "source": [
    "14. How is memory managed in Python? "
   ]
  },
  {
   "cell_type": "code",
   "execution_count": null,
   "id": "5679c880-c617-4c7e-9247-f58c684d066c",
   "metadata": {},
   "outputs": [],
   "source": [
    "In Python, memory management is handled automatically by the language itself through a process called automatic memory management or garbage collection. \n",
    "This means that the programmer does not need to explicitly allocate or deallocate memory as is often required in languages like C or C++.\n",
    "Python's memory manager uses a private heap space to store objects, which is managed by the interpreter.\n",
    "When an object is created, Python allocates memory to store it in the heap.\n",
    "When the object is no longer needed, Python automatically deallocates the memory used by the object, freeing it up for use by other parts of the program.\n",
    "Memory in Python is managed by Python private heap space. All Python objects and data structures are located in a private heap.\n",
    "This private heap is taken care of by Python Interpreter itself, and a programmer doesn't have access to this private heap"
   ]
  },
  {
   "cell_type": "code",
   "execution_count": null,
   "id": "0ce9a85b-5a64-4280-b5d3-c3a3ed5787c1",
   "metadata": {},
   "outputs": [],
   "source": [
    "15. How to install Python on Windows and set path variables?"
   ]
  },
  {
   "cell_type": "code",
   "execution_count": null,
   "id": "7a92a953-6a2a-4a5d-bb87-36ecc8f89d0a",
   "metadata": {},
   "outputs": [],
   "source": [
    "To install Python on Windows and set path variables, follow these steps:\n",
    "\n",
    "Download the Python installer: Go to the official Python website (https://www.python.org/downloads/windows/) and download the latest version of Python for Windows.\n",
    "\n",
    "Run the installer: Double-click on the downloaded file to start the installer. Follow the prompts to install Python on your system. Be sure to select the option to add Python to your system PATH during installation.\n",
    "\n",
    "Check the Python installation: After the installation is complete, open a command prompt and type \"python\" to verify that Python has been installed correctly. You should see the Python interpreter start up and display a welcome message.\n",
    "\n",
    "Set the PATH variable: If you did not select the option to add Python to your system PATH during installation, you will need to set it manually. To do this, follow these steps:\n",
    "\n",
    "a. Right-click on \"This PC\" or \"My Computer\" and select \"Properties\".\n",
    "\n",
    "b. Click on \"Advanced system settings\" and then select the \"Environment Variables\" button.\n",
    "\n",
    "c. Under \"System variables\", scroll down and locate the \"Path\" variable. Select it and click \"Edit\".\n",
    "\n",
    "d. Click \"New\" and add the path to the Python installation directory (usually C:\\PythonXX, where XX is the version number).\n",
    "\n",
    "e. Click \"OK\" to save the changes and close all the windows.\n",
    "\n",
    "Check the PATH variable: To confirm that the PATH variable has been set correctly, open a new command prompt and type \"python\" again. This time, the Python interpreter should start up without any issues.\n",
    "\n",
    "That's it! Python is now installed on your Windows system and you can start writing and running Python programs."
   ]
  },
  {
   "cell_type": "code",
   "execution_count": null,
   "id": "638438de-316e-4558-80de-d7d4da1420f8",
   "metadata": {},
   "outputs": [],
   "source": [
    "16. Is indentation required in python? "
   ]
  },
  {
   "cell_type": "code",
   "execution_count": null,
   "id": "3d22ee8a-450b-4ea8-9226-7812c45e76ea",
   "metadata": {},
   "outputs": [],
   "source": [
    "Indentation is mandatory in python to define the blocks of statements. \n",
    "The number of spaces must be uniform in a block of code.\n",
    "It is preferred to use whitespaces instead of tabs to indent in python.\n",
    "Python uses indentation to indicate the grouping of statements, rather than using curly braces or other delimiters like some other programming languages.\n",
    "In Python, blocks of code are defined by their indentation level. \n",
    "Statements that are at the same level of indentation are considered to be part of the same block of code."
   ]
  }
 ],
 "metadata": {
  "kernelspec": {
   "display_name": "Python 3 (ipykernel)",
   "language": "python",
   "name": "python3"
  },
  "language_info": {
   "codemirror_mode": {
    "name": "ipython",
    "version": 3
   },
   "file_extension": ".py",
   "mimetype": "text/x-python",
   "name": "python",
   "nbconvert_exporter": "python",
   "pygments_lexer": "ipython3",
   "version": "3.10.8"
  }
 },
 "nbformat": 4,
 "nbformat_minor": 5
}
